{
 "cells": [
  {
   "cell_type": "markdown",
   "metadata": {},
   "source": [
    "# Proyecto 04\n",
    "\n",
    "Te presentamos los pasos a seguir para realizar el proyecto 04.\n",
    "\n",
    "1. Elige tu punto de partida entre dos opciones:\n",
    "Tus Proyectos 01 y 02\n",
    "Tu Proyecto 03\n",
    "Si corresponde, emprolija lo hecho hasta el momento, incorporando las correcciones y/o sugerencias que hayas recibido de tu(s) evaluador/a (es/as).\n",
    "\n",
    "2. Formula una nueva pregunta, problema o desafío para explorar. Aquí hay una lista no exhaustiva de opciones que puedes elegir:\n",
    "\n",
    "3. Prueba un modelo de Machine Learning nuevo que no hayas visto en la carrera. En ese caso, debes explicar su funcionamiento y por qué consideras apropiado aplicarlo. La ganancia no necesariamente tiene que ser en desempeño, también puede ser en interpretabilidad o aplicabilidad.\n",
    "4. Agrega al proyecto información de otra fuente. ¡Es sumamente válido! En ese caso, debe estar claramente explicado cómo conseguiste esos datos y qué usos esperas darles. Los datos deben ser accesibles por tu evaluador/a (por ejemplo, puedes subirlos al repositorio). Presta atención a la sensibilidad y privacidad de los datos antes de compartirlos.\n",
    "5. Continúa el Análisis Exploratorio de Datos. Recuerda que es tan importante como entrenar un modelo de Machine Learning.\n",
    "5. Sigue las sugerencias que te propusimos en los notebooks para continuar el Proyecto 03.\n",
    "\n",
    "Plantea un objetivo alcanzable. En esta etapa de tu formación, es preferible un problema sencillo bien abordado que uno ambicioso que no sabes cómo abordar. El objetivo debe estar correctamente explicitado. Debes explicar qué quieres hacer y qué esperas encontrar. Imagina que es una tarea en tu trabajo y tienes que explicarle a un/a jefe/a qué vas a hacer y por qué."
   ]
  },
  {
   "cell_type": "code",
   "execution_count": 2,
   "metadata": {},
   "outputs": [],
   "source": [
    "import pandas as pd"
   ]
  },
  {
   "cell_type": "code",
   "execution_count": 4,
   "metadata": {},
   "outputs": [
    {
     "data": {
      "text/html": [
       "<div>\n",
       "<style scoped>\n",
       "    .dataframe tbody tr th:only-of-type {\n",
       "        vertical-align: middle;\n",
       "    }\n",
       "\n",
       "    .dataframe tbody tr th {\n",
       "        vertical-align: top;\n",
       "    }\n",
       "\n",
       "    .dataframe thead th {\n",
       "        text-align: right;\n",
       "    }\n",
       "</style>\n",
       "<table border=\"1\" class=\"dataframe\">\n",
       "  <thead>\n",
       "    <tr style=\"text-align: right;\">\n",
       "      <th></th>\n",
       "      <th>periodo</th>\n",
       "      <th>fecha</th>\n",
       "      <th>hora_inicio</th>\n",
       "      <th>hora_fin</th>\n",
       "      <th>dia</th>\n",
       "      <th>estacion</th>\n",
       "      <th>sentido</th>\n",
       "      <th>tipo_vehiculo</th>\n",
       "      <th>forma_pago</th>\n",
       "      <th>cantidad_pasos</th>\n",
       "    </tr>\n",
       "  </thead>\n",
       "  <tbody>\n",
       "    <tr>\n",
       "      <th>0</th>\n",
       "      <td>2019</td>\n",
       "      <td>2019-01-01</td>\n",
       "      <td>0</td>\n",
       "      <td>1</td>\n",
       "      <td>Martes</td>\n",
       "      <td>Alberti</td>\n",
       "      <td>Centro</td>\n",
       "      <td>Liviano</td>\n",
       "      <td>NO COBRADO</td>\n",
       "      <td>22</td>\n",
       "    </tr>\n",
       "    <tr>\n",
       "      <th>1</th>\n",
       "      <td>2019</td>\n",
       "      <td>2019-01-01</td>\n",
       "      <td>0</td>\n",
       "      <td>1</td>\n",
       "      <td>Martes</td>\n",
       "      <td>Alberti</td>\n",
       "      <td>Centro</td>\n",
       "      <td>Liviano</td>\n",
       "      <td>TELEPASE</td>\n",
       "      <td>6</td>\n",
       "    </tr>\n",
       "  </tbody>\n",
       "</table>\n",
       "</div>"
      ],
      "text/plain": [
       "   periodo       fecha  hora_inicio  hora_fin     dia estacion sentido  \\\n",
       "0     2019  2019-01-01            0         1  Martes  Alberti  Centro   \n",
       "1     2019  2019-01-01            0         1  Martes  Alberti  Centro   \n",
       "\n",
       "  tipo_vehiculo  forma_pago  cantidad_pasos  \n",
       "0       Liviano  NO COBRADO              22  \n",
       "1       Liviano    TELEPASE               6  "
      ]
     },
     "execution_count": 4,
     "metadata": {},
     "output_type": "execute_result"
    }
   ],
   "source": [
    "data_2016=pd.read_csv('./Datasets/flujo-vehicular-2016.csv',sep=',')\n",
    "data_2019=pd.read_csv('./Datasets/flujo-vehicular-2019.csv', sep =',')\n",
    "data_2018=pd.read_csv('./Datasets/flujo-vehicular-2018.csv', sep =',')\n",
    "data_2017=pd.read_csv('./Datasets/flujo-vehicular-2017.csv', sep =',')\n",
    "\n",
    "data_2016_2019 = pd.concat([data_2019, data_2018, data_2017, data_2016])\n",
    "\n",
    "data_2016_2019.head(2)"
   ]
  },
  {
   "cell_type": "code",
   "execution_count": null,
   "metadata": {},
   "outputs": [],
   "source": []
  }
 ],
 "metadata": {
  "kernelspec": {
   "display_name": "Python 3",
   "language": "python",
   "name": "python3"
  },
  "language_info": {
   "codemirror_mode": {
    "name": "ipython",
    "version": 3
   },
   "file_extension": ".py",
   "mimetype": "text/x-python",
   "name": "python",
   "nbconvert_exporter": "python",
   "pygments_lexer": "ipython3",
   "version": "3.8.5"
  }
 },
 "nbformat": 4,
 "nbformat_minor": 4
}
